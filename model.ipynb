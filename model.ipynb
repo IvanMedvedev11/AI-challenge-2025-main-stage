{
 "cells": [
  {
   "cell_type": "code",
   "execution_count": null,
   "id": "f08652cc",
   "metadata": {},
   "outputs": [],
   "source": [
    "import torch\n",
    "import pandas as pd\n",
    "import numpy as np"
   ]
  },
  {
   "cell_type": "code",
   "execution_count": null,
   "id": "f25a65df",
   "metadata": {},
   "outputs": [],
   "source": []
  }
 ],
 "metadata": {
  "language_info": {
   "name": "python"
  }
 },
 "nbformat": 4,
 "nbformat_minor": 5
}
