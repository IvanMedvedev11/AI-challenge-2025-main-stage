{
 "cells": [
  {
   "cell_type": "code",
   "execution_count": 207,
   "id": "f08652cc",
   "metadata": {},
   "outputs": [],
   "source": [
    "import torch\n",
    "from torch.utils.data import Dataset, DataLoader\n",
    "import pandas as pd\n",
    "import numpy as np\n",
    "from sklearn.model_selection import train_test_split\n",
    "from sklearn.metrics import f1_score\n",
    "import torchvision.datasets\n",
    "from torchvision import transforms\n",
    "from PIL import Image\n",
    "import matplotlib.pyplot as plt"
   ]
  },
  {
   "cell_type": "code",
   "execution_count": 208,
   "id": "62155c85",
   "metadata": {},
   "outputs": [],
   "source": [
    "transform = transforms.Compose([\n",
    "    transforms.Resize(256),             \n",
    "    transforms.CenterCrop(224),        \n",
    "    transforms.ToTensor(),             \n",
    "    transforms.Normalize(              \n",
    "        mean=[0.485, 0.456, 0.406], \n",
    "        std=[0.229, 0.224, 0.225]\n",
    "    ),\n",
    "])"
   ]
  },
  {
   "cell_type": "code",
   "execution_count": 209,
   "id": "d9e458f2",
   "metadata": {},
   "outputs": [],
   "source": [
    "class CSVImageDataset(Dataset):\n",
    "    def __init__(self, df, transform=None):\n",
    "        self.df = df\n",
    "        self.transform = transform\n",
    "\n",
    "    def __len__(self):\n",
    "        return len(self.df)\n",
    "\n",
    "    def __getitem__(self, idx):\n",
    "        img_path = 'data/images/' + self.df.iloc[idx]\n",
    "        \n",
    "        image = Image.open(img_path).convert('RGB')\n",
    "        if self.transform:\n",
    "            image = self.transform(image)\n",
    "            \n",
    "        return image\n",
    "    def to_tensor(self):\n",
    "        tensor = []\n",
    "        for i in range(len(self)):\n",
    "            img_tensor = self[i]\n",
    "            tensor.append(img_tensor)\n",
    "        return torch.stack(tensor)"
   ]
  },
  {
   "cell_type": "code",
   "execution_count": 210,
   "id": "b1d31e7a",
   "metadata": {},
   "outputs": [],
   "source": [
    "data = pd.read_csv('data/train.csv')\n",
    "X = data['image']\n",
    "y = data['class']"
   ]
  },
  {
   "cell_type": "code",
   "execution_count": 211,
   "id": "5ec8a482",
   "metadata": {},
   "outputs": [],
   "source": [
    "X_train, X_test, y_train, y_test = train_test_split(X, y, random_state=1000)"
   ]
  },
  {
   "cell_type": "code",
   "execution_count": 212,
   "id": "c6eee4c6",
   "metadata": {},
   "outputs": [
    {
     "data": {
      "text/plain": [
       "tensor([1, 1, 1, 1, 1, 1, 1, 0, 1, 1, 0, 1, 0, 1, 0, 1, 1, 1, 0, 1, 1, 1, 0, 1,\n",
       "        0, 1, 1, 1, 1, 1, 1, 1, 0, 0, 1, 1, 1, 0, 1, 1, 1, 1, 1, 1, 1, 1, 0, 1,\n",
       "        1, 1, 1, 1, 1, 1, 1, 1, 1, 1, 0, 1, 1, 1, 1, 1, 0, 1, 1, 1, 1, 0, 0, 1,\n",
       "        1, 1, 1, 1, 1, 1, 1, 1, 0, 1, 1, 1, 1])"
      ]
     },
     "execution_count": 212,
     "metadata": {},
     "output_type": "execute_result"
    }
   ],
   "source": [
    "X_train = CSVImageDataset(X_train, transform=transform)\n",
    "X_train = X_train.to_tensor()\n",
    "X_test = CSVImageDataset(X_test, transform=transform)\n",
    "X_test = X_test.to_tensor()\n",
    "y_train = torch.from_numpy(np.array(y_train)).long()\n",
    "y_test = torch.from_numpy(np.array(y_test)).long()\n",
    "y_test"
   ]
  },
  {
   "cell_type": "code",
   "execution_count": 213,
   "id": "8922724e",
   "metadata": {},
   "outputs": [],
   "source": [
    "class RostelecomNet(torch.nn.Module):\n",
    "    def __init__(self):\n",
    "        super(RostelecomNet, self).__init__()\n",
    "        self.conv1 = torch.nn.Conv2d(in_channels=3, out_channels=2, kernel_size=11, padding=0)\n",
    "        self.act1 = torch.nn.Tanh()\n",
    "        self.pool1 = torch.nn.AvgPool2d(kernel_size=2, stride=2)\n",
    "        self.conv2 = torch.nn.Conv2d(in_channels=2, out_channels=1, kernel_size=11, padding=0)\n",
    "        self.act2 = torch.nn.Tanh()\n",
    "        self.pool2 = torch.nn.AvgPool2d(kernel_size=4, stride=4)\n",
    "        self.conv3 = torch.nn.Conv2d(in_channels=1, out_channels=1, kernel_size=5, padding=0)\n",
    "        self.act3 = torch.nn.Tanh()\n",
    "        self.pool3 = torch.nn.AvgPool2d(kernel_size=3, stride=3)\n",
    "        self.fc1 = torch.nn.Linear(1 * 6 * 6, 2)\n",
    "        self.sm = torch.nn.Softmax()\n",
    "    def forward(self, x):\n",
    "        x = self.conv1(x)\n",
    "        x = self.act1(x)\n",
    "        x = self.pool1(x)\n",
    "        x = self.conv2(x)\n",
    "        x = self.act2(x)\n",
    "        x = self.pool2(x)\n",
    "        x = self.conv3(x)\n",
    "        x = self.act3(x)\n",
    "        x = self.pool3(x)\n",
    "        x = x.view(x.size(0), x.size(1) * x.size(2) * x.size(3))\n",
    "        x = self.fc1(x)\n",
    "        return x\n",
    "    def inference(self, x):\n",
    "        x = self.forward(x)\n",
    "        x = self.sm(x)\n",
    "        return x\n",
    "rostelecomnet = RostelecomNet()"
   ]
  },
  {
   "cell_type": "code",
   "execution_count": 214,
   "id": "e50d047d",
   "metadata": {},
   "outputs": [],
   "source": [
    "loss = torch.nn.CrossEntropyLoss()\n",
    "optimizer = torch.optim.Adam(rostelecomnet.parameters(), lr=1.0e-2)"
   ]
  },
  {
   "cell_type": "code",
   "execution_count": 215,
   "id": "7d58d9b2",
   "metadata": {},
   "outputs": [],
   "source": [
    "device = torch.device('cuda:0' if torch.cuda.is_available() else 'cpu')\n",
    "rostelecomnet = rostelecomnet.to(device)"
   ]
  },
  {
   "cell_type": "code",
   "execution_count": 216,
   "id": "999ba885",
   "metadata": {},
   "outputs": [
    {
     "name": "stdout",
     "output_type": "stream",
     "text": [
      "0.8961038961038961\n",
      "0.9324324324324325\n",
      "0.9517241379310345\n"
     ]
    }
   ],
   "source": [
    "batch_size = 100 # Размер батча\n",
    "\n",
    "for epoch in range(5000): # Кол-во эпох 5000\n",
    "    # Перемешиваем данные\n",
    "    order = np.random.permutation(len(X_train))\n",
    "    # Итерируемся по батчам\n",
    "    for start_index in range(0, len(X_train), batch_size):\n",
    "        # Обнуляем градиенты\n",
    "        optimizer.zero_grad()\n",
    "        # Индексы элементов батча\n",
    "        batch_indexes = order[start_index:start_index+batch_size]\n",
    "        # Элементы батча\n",
    "        x_batch = X_train[batch_indexes]\n",
    "        y_batch = y_train[batch_indexes]\n",
    "        # Предсказания\n",
    "        preds = rostelecomnet.forward(x_batch)\n",
    "        # Значение функции потерь\n",
    "        loss_value = loss(preds, y_batch)\n",
    "        # Получаем градиенты\n",
    "        loss_value.backward()\n",
    "        # Шаг градиентного спуска\n",
    "        optimizer.step()\n",
    "    # Каждые 100 эпох делаем предсказания для тестовой выборки\n",
    "    if epoch % 10 == 0:\n",
    "        # Сами предсказания\n",
    "        test_preds = rostelecomnet.forward(X_test)\n",
    "        test_preds = test_preds.argmax(dim=1)\n",
    "        print(f1_score(test_preds, y_test)) #Получаем точность по метрике f1-score(macro)\n",
    "        if f1_score(test_preds, y_test) >= 0.95:\n",
    "            break\n",
    "        "
   ]
  },
  {
   "cell_type": "code",
   "execution_count": 217,
   "id": "e2afa880",
   "metadata": {},
   "outputs": [],
   "source": [
    "def predict(net, x):\n",
    "    y_pred = net.inference(x)\n",
    "    y_pred = y_pred.argmax(dim=1)\n",
    "    return y_pred"
   ]
  },
  {
   "cell_type": "code",
   "execution_count": 218,
   "id": "e511b739",
   "metadata": {},
   "outputs": [],
   "source": [
    "test_data = pd.read_csv('data/test.csv')\n",
    "images = test_data['image']\n",
    "test = CSVImageDataset(images, transform=transform)\n",
    "test = test.to_tensor()"
   ]
  },
  {
   "cell_type": "code",
   "execution_count": 219,
   "id": "c11d7507",
   "metadata": {},
   "outputs": [
    {
     "name": "stderr",
     "output_type": "stream",
     "text": [
      "c:\\Users\\Пользователь\\AppData\\Local\\Programs\\Python\\Python313\\Lib\\site-packages\\torch\\nn\\modules\\module.py:1751: UserWarning: Implicit dimension choice for softmax has been deprecated. Change the call to include dim=X as an argument.\n",
      "  return self._call_impl(*args, **kwargs)\n"
     ]
    },
    {
     "data": {
      "text/html": [
       "<div>\n",
       "<style scoped>\n",
       "    .dataframe tbody tr th:only-of-type {\n",
       "        vertical-align: middle;\n",
       "    }\n",
       "\n",
       "    .dataframe tbody tr th {\n",
       "        vertical-align: top;\n",
       "    }\n",
       "\n",
       "    .dataframe thead th {\n",
       "        text-align: right;\n",
       "    }\n",
       "</style>\n",
       "<table border=\"1\" class=\"dataframe\">\n",
       "  <thead>\n",
       "    <tr style=\"text-align: right;\">\n",
       "      <th></th>\n",
       "      <th>image</th>\n",
       "      <th>class</th>\n",
       "    </tr>\n",
       "  </thead>\n",
       "  <tbody>\n",
       "    <tr>\n",
       "      <th>0</th>\n",
       "      <td>pnlioc.jpg</td>\n",
       "      <td>1</td>\n",
       "    </tr>\n",
       "    <tr>\n",
       "      <th>1</th>\n",
       "      <td>hivmnw.jpg</td>\n",
       "      <td>1</td>\n",
       "    </tr>\n",
       "    <tr>\n",
       "      <th>2</th>\n",
       "      <td>fsftlx.jpg</td>\n",
       "      <td>1</td>\n",
       "    </tr>\n",
       "    <tr>\n",
       "      <th>3</th>\n",
       "      <td>uygvah.jpg</td>\n",
       "      <td>0</td>\n",
       "    </tr>\n",
       "    <tr>\n",
       "      <th>4</th>\n",
       "      <td>kmcfhr.jpg</td>\n",
       "      <td>1</td>\n",
       "    </tr>\n",
       "    <tr>\n",
       "      <th>...</th>\n",
       "      <td>...</td>\n",
       "      <td>...</td>\n",
       "    </tr>\n",
       "    <tr>\n",
       "      <th>156</th>\n",
       "      <td>dovvvc.jpg</td>\n",
       "      <td>1</td>\n",
       "    </tr>\n",
       "    <tr>\n",
       "      <th>157</th>\n",
       "      <td>axrglz.jpg</td>\n",
       "      <td>1</td>\n",
       "    </tr>\n",
       "    <tr>\n",
       "      <th>158</th>\n",
       "      <td>xyxrkm.jpg</td>\n",
       "      <td>0</td>\n",
       "    </tr>\n",
       "    <tr>\n",
       "      <th>159</th>\n",
       "      <td>xosnep.jpg</td>\n",
       "      <td>1</td>\n",
       "    </tr>\n",
       "    <tr>\n",
       "      <th>160</th>\n",
       "      <td>iuunwu.jpg</td>\n",
       "      <td>1</td>\n",
       "    </tr>\n",
       "  </tbody>\n",
       "</table>\n",
       "<p>161 rows × 2 columns</p>\n",
       "</div>"
      ],
      "text/plain": [
       "          image  class\n",
       "0    pnlioc.jpg      1\n",
       "1    hivmnw.jpg      1\n",
       "2    fsftlx.jpg      1\n",
       "3    uygvah.jpg      0\n",
       "4    kmcfhr.jpg      1\n",
       "..          ...    ...\n",
       "156  dovvvc.jpg      1\n",
       "157  axrglz.jpg      1\n",
       "158  xyxrkm.jpg      0\n",
       "159  xosnep.jpg      1\n",
       "160  iuunwu.jpg      1\n",
       "\n",
       "[161 rows x 2 columns]"
      ]
     },
     "execution_count": 219,
     "metadata": {},
     "output_type": "execute_result"
    }
   ],
   "source": [
    "y_preds = predict(rostelecomnet, test)\n",
    "\n",
    "test_data['class'] = y_preds.detach().numpy()\n",
    "test_data.to_csv('data/submit.csv')\n",
    "test_data"
   ]
  }
 ],
 "metadata": {
  "kernelspec": {
   "display_name": "Python 3",
   "language": "python",
   "name": "python3"
  },
  "language_info": {
   "codemirror_mode": {
    "name": "ipython",
    "version": 3
   },
   "file_extension": ".py",
   "mimetype": "text/x-python",
   "name": "python",
   "nbconvert_exporter": "python",
   "pygments_lexer": "ipython3",
   "version": "3.13.1"
  }
 },
 "nbformat": 4,
 "nbformat_minor": 5
}
